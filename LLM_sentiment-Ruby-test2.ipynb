{
 "cells": [
  {
   "cell_type": "markdown",
   "metadata": {},
   "source": [
    "# LLM Sentiment analisis"
   ]
  },
  {
   "cell_type": "code",
   "execution_count": 3,
   "metadata": {},
   "outputs": [
    {
     "name": "stdout",
     "output_type": "stream",
     "text": [
      "1.86.0\n"
     ]
    }
   ],
   "source": [
    "# python 3.13.3\n",
    "# !pip install openai==1.3.9\n",
    "import openai\n",
    "print(openai.__version__)"
   ]
  },
  {
   "cell_type": "code",
   "execution_count": 4,
   "metadata": {},
   "outputs": [
    {
     "name": "stdout",
     "output_type": "stream",
     "text": [
      "valid_df size 1200\n"
     ]
    },
    {
     "data": {
      "application/vnd.microsoft.datawrangler.viewer.v0+json": {
       "columns": [
        {
         "name": "index",
         "rawType": "int64",
         "type": "integer"
        },
        {
         "name": "Text",
         "rawType": "object",
         "type": "string"
        },
        {
         "name": "Sentiment",
         "rawType": "object",
         "type": "string"
        }
       ],
       "ref": "dc1610e0-df48-4c20-aad2-e5876ad8481d",
       "rows": [
        [
         "0",
         "นี้ๆชวนบ่อยสะ",
         "neu"
        ],
        [
         "1",
         "(พยาบาลพัฒนาระบบคุณภาพ), โรงพยาบาลกรุงเทพภูเก็ต #พยาบาล #งานโรงพยาบาลกรุงเทพภูเก็ต #งานพยาบาล #อาชีพพยาบาล #หางานพยาบาล #สมัครงานโรงพยาบาลเครือBDMS #สมัครงานพยาบาล #งานโรงพยาบาล #หางานโรงพยาบาล #สมัครงานโรงพยาบาล",
         "neu"
        ],
        [
         "2",
         "เคยเจอแบบนี้ตอนนั่งแท็กซี่กลับจากคอนเสิร์ตคนเดียว ตอนนั้นดึกแล้วด้วย แต่เราไม่ได้แต่งตัวโป้นะ กระโปรงยาวถึงเข่าด้วยซ้ำ แม่มถามเราซ้ำๆอยู่คอนโดไหน (ตอนขึ้นเราบอกเค้าแค่ไปตรงโลตัสอ่อนนุช) ทำไมกลับคนเดียว ไม่มีแฟนหรอ แล้ววนกลับมาถามอีกว่าอยู่คอนโดไหนแบบจะรู้ให้ได้อ่ะ เราเลยบอกว่ายังไม่เข้าบ้านจะแวะแมคหาอะไรกินก่อน ก็ยังจะถามซ้ำอีกว่าคอนโดไหน พอดีถึงแมคพอดีเลยบอกให้จอดแล้วจ่ายตังค์รีบวิ่งเข้าแมคไป โชคดีที่วันนั้นมีเงินพอดีค่ารถ ไม่ต้องทอน",
         "neu"
        ],
        [
         "3",
         "นิสสันมาแหะ",
         "neu"
        ],
        [
         "4",
         "อยากกินอ่ะหมู 😣😣😣",
         "pos"
        ]
       ],
       "shape": {
        "columns": 2,
        "rows": 5
       }
      },
      "text/html": [
       "<div>\n",
       "<style scoped>\n",
       "    .dataframe tbody tr th:only-of-type {\n",
       "        vertical-align: middle;\n",
       "    }\n",
       "\n",
       "    .dataframe tbody tr th {\n",
       "        vertical-align: top;\n",
       "    }\n",
       "\n",
       "    .dataframe thead th {\n",
       "        text-align: right;\n",
       "    }\n",
       "</style>\n",
       "<table border=\"1\" class=\"dataframe\">\n",
       "  <thead>\n",
       "    <tr style=\"text-align: right;\">\n",
       "      <th></th>\n",
       "      <th>Text</th>\n",
       "      <th>Sentiment</th>\n",
       "    </tr>\n",
       "  </thead>\n",
       "  <tbody>\n",
       "    <tr>\n",
       "      <th>0</th>\n",
       "      <td>นี้ๆชวนบ่อยสะ</td>\n",
       "      <td>neu</td>\n",
       "    </tr>\n",
       "    <tr>\n",
       "      <th>1</th>\n",
       "      <td>(พยาบาลพัฒนาระบบคุณภาพ), โรงพยาบาลกรุงเทพภูเก็...</td>\n",
       "      <td>neu</td>\n",
       "    </tr>\n",
       "    <tr>\n",
       "      <th>2</th>\n",
       "      <td>เคยเจอแบบนี้ตอนนั่งแท็กซี่กลับจากคอนเสิร์ตคนเด...</td>\n",
       "      <td>neu</td>\n",
       "    </tr>\n",
       "    <tr>\n",
       "      <th>3</th>\n",
       "      <td>นิสสันมาแหะ</td>\n",
       "      <td>neu</td>\n",
       "    </tr>\n",
       "    <tr>\n",
       "      <th>4</th>\n",
       "      <td>อยากกินอ่ะหมู 😣😣😣</td>\n",
       "      <td>pos</td>\n",
       "    </tr>\n",
       "  </tbody>\n",
       "</table>\n",
       "</div>"
      ],
      "text/plain": [
       "                                                Text Sentiment\n",
       "0                                      นี้ๆชวนบ่อยสะ       neu\n",
       "1  (พยาบาลพัฒนาระบบคุณภาพ), โรงพยาบาลกรุงเทพภูเก็...       neu\n",
       "2  เคยเจอแบบนี้ตอนนั่งแท็กซี่กลับจากคอนเสิร์ตคนเด...       neu\n",
       "3                                        นิสสันมาแหะ       neu\n",
       "4                                  อยากกินอ่ะหมู 😣😣😣       pos"
      ]
     },
     "execution_count": 4,
     "metadata": {},
     "output_type": "execute_result"
    }
   ],
   "source": [
    "#ติดตั้งไลบรารีที่จำเป็น\n",
    "# !pip install openai pandas tqdm scikit-learn\n",
    "\n",
    "# นำเข้าไลบรารี\n",
    "import pandas as pd\n",
    "from openai import OpenAI\n",
    "from tqdm import tqdm\n",
    "import time\n",
    "from sklearn.model_selection import train_test_split\n",
    "\n",
    "client = OpenAI(\n",
    "    base_url=\"https://openrouter.ai/api/v1\",\n",
    "    api_key=\"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\",  \n",
    ")\n",
    "\n",
    "MODEL = \"scb10x/llama3.1-typhoon2-70b-instruct\"\n",
    "\n",
    "# โหลดข้อมูล\n",
    "df = pd.read_excel(r'C:\\Users\\FOth-PC\\Desktop\\เอกสาร\\Ruby-test\\rawdata_sentiment.xlsx') \n",
    "\n",
    "# ถ้า column ชื่ออื่น เปลี่ยนชื่อให้ตรง เช่น df.rename(columns={'Review': 'review', 'Label': 'label'}, inplace=True)\n",
    "# df.rename(columns={'Text': 'review', 'Sentiment': 'label'}, inplace=True)\n",
    "\n",
    "train_df, valid_df = train_test_split(\n",
    "    df, test_size=0.2, stratify=df['Sentiment'], random_state=0\n",
    ")\n",
    "train_df = train_df.reset_index(drop=True)\n",
    "valid_df = valid_df.reset_index(drop=True)\n",
    "print('valid_df size', valid_df.size)\n",
    "df.head()"
   ]
  },
  {
   "cell_type": "code",
   "execution_count": 5,
   "metadata": {},
   "outputs": [],
   "source": [
    "# 5. สร้างฟังก์ชันเรียก OpenRouter LLM\n",
    "def classify_sentiment(review, retry=2):\n",
    "    prompt = f\"\"\"Classify the following review as Positive, Neutral, or Negative. Only output the label.\n",
    "\n",
    "Review: \"{review}\"\n",
    "Sentiment:\"\"\"\n",
    "    for _ in range(retry):\n",
    "        try:\n",
    "            completion = client.chat.completions.create(\n",
    "                model=MODEL,\n",
    "                messages=[{\"role\": \"user\", \"content\": prompt}],\n",
    "                temperature=0,\n",
    "                max_tokens=3\n",
    "            )\n",
    "            return completion.choices[0].message.content.strip()\n",
    "        except Exception as e:\n",
    "            print(\"Error:\", e)\n",
    "            time.sleep(2)\n",
    "    return \"error\"\n"
   ]
  },
  {
   "cell_type": "code",
   "execution_count": 6,
   "metadata": {},
   "outputs": [],
   "source": [
    "#few-shot prompt\n",
    "import numpy as np\n",
    "\n",
    "label_names = ['neu', 'pos', 'neg']\n",
    "n_per_label = 1\n",
    "fewshot_list = []\n",
    "\n",
    "for label in label_names:\n",
    "    sample = train_df[train_df['Sentiment'] == label].sample(n=n_per_label, random_state=42)\n",
    "    for _, row in sample.iterrows():\n",
    "        fewshot_list.append(f'Review: \"{row[\"Text\"]}\" Label: {row[\"Sentiment\"]}')\n",
    "\n",
    "fewshot_prompt = '\\n'.join(fewshot_list)\n",
    "\n",
    "def ask_llm_with_fewshot(review, fewshot_prompt, model=MODEL, max_retry=2):\n",
    "    prompt = f\"\"\"{fewshot_prompt}\n",
    "Review: \"{review}\"\n",
    "Label:\"\"\"\n",
    "    for _ in range(max_retry):\n",
    "        try:\n",
    "            completion = client.chat.completions.create(\n",
    "                model=model,\n",
    "                messages=[{\"role\": \"user\", \"content\": prompt}],\n",
    "                temperature=0,\n",
    "                max_tokens=3\n",
    "            )\n",
    "            return completion.choices[0].message.content.strip().lower()\n",
    "        except Exception as e:\n",
    "            print(\"Error:\", e)\n",
    "            time.sleep(2)\n",
    "    return \"error\"\n",
    "\n"
   ]
  },
  {
   "cell_type": "code",
   "execution_count": 7,
   "metadata": {},
   "outputs": [
    {
     "name": "stderr",
     "output_type": "stream",
     "text": [
      "100%|██████████| 200/200 [01:56<00:00,  1.72it/s]"
     ]
    },
    {
     "name": "stdout",
     "output_type": "stream",
     "text": [
      "\n",
      "Accuracy: 0.72\n",
      "              precision    recall  f1-score   support\n",
      "\n",
      "         neg      0.909     0.392     0.548        51\n",
      "         neu      0.690     0.939     0.796       114\n",
      "         pos      0.739     0.486     0.586        35\n",
      "\n",
      "    accuracy                          0.720       200\n",
      "   macro avg      0.780     0.605     0.643       200\n",
      "weighted avg      0.755     0.720     0.696       200\n",
      "\n",
      "Confusion matrix:\n",
      " [[107   6   1]\n",
      " [ 17  17   1]\n",
      " [ 31   0  20]]\n"
     ]
    },
    {
     "name": "stderr",
     "output_type": "stream",
     "text": [
      "\n"
     ]
    }
   ],
   "source": [
    "from tqdm import tqdm\n",
    "\n",
    "valid_part = valid_df.sample(n=200, random_state=42)  # หรือจะวนทุกแถวก็ได้ (แต่ช้า)\n",
    "results = []\n",
    "for review in tqdm(valid_part[\"Text\"]):\n",
    "    results.append(ask_llm_with_fewshot(review, fewshot_prompt))\n",
    "\n",
    "valid_part['llm_pred'] = results\n",
    "\n",
    "from sklearn.metrics import classification_report, confusion_matrix, accuracy_score\n",
    "\n",
    "y_true = valid_part[\"Sentiment\"].str.lower()\n",
    "y_pred = valid_part['llm_pred']\n",
    "\n",
    "print(\"\\nAccuracy:\", accuracy_score(y_true, y_pred))\n",
    "print(classification_report(y_true, y_pred, digits=3))\n",
    "print(\"Confusion matrix:\\n\", confusion_matrix(y_true, y_pred, labels=label_names))"
   ]
  },
  {
   "cell_type": "code",
   "execution_count": 8,
   "metadata": {},
   "outputs": [],
   "source": [
    "valid_part.to_csv(\"llm_valid_with_pred.csv\", index=False, encoding=\"utf-8-sig\")"
   ]
  }
 ],
 "metadata": {
  "kernelspec": {
   "display_name": "Python 3",
   "language": "python",
   "name": "python3"
  },
  "language_info": {
   "codemirror_mode": {
    "name": "ipython",
    "version": 3
   },
   "file_extension": ".py",
   "mimetype": "text/x-python",
   "name": "python",
   "nbconvert_exporter": "python",
   "pygments_lexer": "ipython3",
   "version": "3.13.3"
  }
 },
 "nbformat": 4,
 "nbformat_minor": 2
}
