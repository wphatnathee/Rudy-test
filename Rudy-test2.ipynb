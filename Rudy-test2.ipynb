{
  "cells": [
    {
      "cell_type": "markdown",
      "metadata": {
        "id": "8AF08ssF6z5K"
      },
      "source": [
        "# Sentiment Analysis"
      ]
    },
    {
      "cell_type": "markdown",
      "metadata": {
        "id": "o-tHtMyc6z5L"
      },
      "source": [
        "Ref : https://pythainlp.org/tutorials/notebooks/sentiment_analysis.html"
      ]
    },
    {
      "cell_type": "code",
      "execution_count": null,
      "metadata": {
        "id": "bNjkuQK46z5M"
      },
      "outputs": [
        {
          "name": "stdout",
          "output_type": "stream",
          "text": [
            "Defaulting to user installation because normal site-packages is not writeable\n",
            "Requirement already satisfied: transformers in c:\\programdata\\anaconda3\\lib\\site-packages (4.24.0)\n",
            "Requirement already satisfied: regex!=2019.12.17 in c:\\programdata\\anaconda3\\lib\\site-packages (from transformers) (2022.7.9)\n",
            "Requirement already satisfied: packaging>=20.0 in c:\\programdata\\anaconda3\\lib\\site-packages (from transformers) (22.0)\n",
            "Requirement already satisfied: requests in c:\\users\\foth-pc\\appdata\\roaming\\python\\python310\\site-packages (from transformers) (2.32.4)\n",
            "Requirement already satisfied: tokenizers!=0.11.3,<0.14,>=0.11.1 in c:\\programdata\\anaconda3\\lib\\site-packages (from transformers) (0.11.4)\n",
            "Requirement already satisfied: pyyaml>=5.1 in c:\\programdata\\anaconda3\\lib\\site-packages (from transformers) (6.0)\n",
            "Requirement already satisfied: tqdm>=4.27 in c:\\programdata\\anaconda3\\lib\\site-packages (from transformers) (4.64.1)\n",
            "Requirement already satisfied: huggingface-hub<1.0,>=0.10.0 in c:\\programdata\\anaconda3\\lib\\site-packages (from transformers) (0.10.1)\n",
            "Requirement already satisfied: filelock in c:\\programdata\\anaconda3\\lib\\site-packages (from transformers) (3.9.0)\n",
            "Requirement already satisfied: numpy>=1.17 in c:\\programdata\\anaconda3\\lib\\site-packages (from transformers) (1.23.5)\n",
            "Requirement already satisfied: typing-extensions>=3.7.4.3 in c:\\users\\foth-pc\\appdata\\roaming\\python\\python310\\site-packages (from huggingface-hub<1.0,>=0.10.0->transformers) (4.13.2)\n",
            "Requirement already satisfied: colorama in c:\\programdata\\anaconda3\\lib\\site-packages (from tqdm>=4.27->transformers) (0.4.6)\n",
            "Requirement already satisfied: urllib3<3,>=1.21.1 in c:\\users\\foth-pc\\appdata\\roaming\\python\\python310\\site-packages (from requests->transformers) (1.26.20)\n",
            "Requirement already satisfied: charset_normalizer<4,>=2 in c:\\programdata\\anaconda3\\lib\\site-packages (from requests->transformers) (2.0.4)\n",
            "Requirement already satisfied: idna<4,>=2.5 in c:\\programdata\\anaconda3\\lib\\site-packages (from requests->transformers) (3.4)\n",
            "Requirement already satisfied: certifi>=2017.4.17 in c:\\users\\foth-pc\\appdata\\roaming\\python\\python310\\site-packages (from requests->transformers) (2025.4.26)\n"
          ]
        }
      ],
      "source": [
        "# !pip install sklearn_crfsuite\n",
        "# !pip install emoji\n",
        "# !pip install https://github.com/PyThaiNLP/pythainlp/archive/dev.zip\n",
        "# !pip install xgboost\n",
        "# !pip install transformers"
      ]
    },
    {
      "cell_type": "code",
      "execution_count": 1,
      "metadata": {
        "id": "Zs8wtP0m6z5O",
        "outputId": "20673e35-90c9-4ba0-9e28-ccd18dea2f1c"
      },
      "outputs": [
        {
          "name": "stderr",
          "output_type": "stream",
          "text": [
            "C:\\Users\\FOth-PC\\AppData\\Roaming\\Python\\Python310\\site-packages\\pandas\\core\\arrays\\masked.py:60: UserWarning: Pandas requires version '1.3.6' or newer of 'bottleneck' (version '1.3.5' currently installed).\n",
            "  from pandas.core import (\n"
          ]
        }
      ],
      "source": [
        "import numpy as np\n",
        "import pandas as pd\n",
        "\n",
        "from pythainlp import word_tokenize\n",
        "from tqdm import tqdm_notebook\n",
        "from pythainlp.ulmfit import process_thai\n",
        "from sklearn.feature_extraction.text import TfidfVectorizer\n",
        "from sklearn.model_selection import train_test_split\n",
        "from sklearn.linear_model import LogisticRegression\n",
        "from sklearn.metrics import classification_report, confusion_matrix, accuracy_score\n",
        "\n",
        "#viz\n",
        "import matplotlib.pyplot as plt\n",
        "import seaborn as sns\n",
        "\n",
        "plt.rcParams['font.family'] = 'TH Sarabun New'\n"
      ]
    },
    {
      "cell_type": "markdown",
      "metadata": {
        "id": "cRXpcJp16z5R"
      },
      "source": [
        "## Input data"
      ]
    },
    {
      "cell_type": "code",
      "execution_count": 3,
      "metadata": {
        "colab": {
          "base_uri": "https://localhost:8080/",
          "height": 34
        },
        "id": "4NNjkF3i6z5U",
        "outputId": "3d75e334-45b7-4343-a5ea-045ae9713a71",
        "scrolled": true
      },
      "outputs": [
        {
          "name": "stdout",
          "output_type": "stream",
          "text": [
            "data sentiment shape (3000, 2)\n"
          ]
        },
        {
          "data": {
            "application/vnd.microsoft.datawrangler.viewer.v0+json": {
              "columns": [
                {
                  "name": "index",
                  "rawType": "int64",
                  "type": "integer"
                },
                {
                  "name": "Text",
                  "rawType": "object",
                  "type": "string"
                },
                {
                  "name": "Sentiment",
                  "rawType": "object",
                  "type": "string"
                }
              ],
              "ref": "2d7cdc36-70bc-4eb5-b588-24e022b6b9b7",
              "rows": [
                [
                  "0",
                  "นี้ๆชวนบ่อยสะ",
                  "neu"
                ],
                [
                  "1",
                  "(พยาบาลพัฒนาระบบคุณภาพ), โรงพยาบาลกรุงเทพภูเก็ต #พยาบาล #งานโรงพยาบาลกรุงเทพภูเก็ต #งานพยาบาล #อาชีพพยาบาล #หางานพยาบาล #สมัครงานโรงพยาบาลเครือBDMS #สมัครงานพยาบาล #งานโรงพยาบาล #หางานโรงพยาบาล #สมัครงานโรงพยาบาล",
                  "neu"
                ],
                [
                  "2",
                  "เคยเจอแบบนี้ตอนนั่งแท็กซี่กลับจากคอนเสิร์ตคนเดียว ตอนนั้นดึกแล้วด้วย แต่เราไม่ได้แต่งตัวโป้นะ กระโปรงยาวถึงเข่าด้วยซ้ำ แม่มถามเราซ้ำๆอยู่คอนโดไหน (ตอนขึ้นเราบอกเค้าแค่ไปตรงโลตัสอ่อนนุช) ทำไมกลับคนเดียว ไม่มีแฟนหรอ แล้ววนกลับมาถามอีกว่าอยู่คอนโดไหนแบบจะรู้ให้ได้อ่ะ เราเลยบอกว่ายังไม่เข้าบ้านจะแวะแมคหาอะไรกินก่อน ก็ยังจะถามซ้ำอีกว่าคอนโดไหน พอดีถึงแมคพอดีเลยบอกให้จอดแล้วจ่ายตังค์รีบวิ่งเข้าแมคไป โชคดีที่วันนั้นมีเงินพอดีค่ารถ ไม่ต้องทอน",
                  "neu"
                ],
                [
                  "3",
                  "นิสสันมาแหะ",
                  "neu"
                ],
                [
                  "4",
                  "อยากกินอ่ะหมู 😣😣😣",
                  "pos"
                ]
              ],
              "shape": {
                "columns": 2,
                "rows": 5
              }
            },
            "text/html": [
              "<div>\n",
              "<style scoped>\n",
              "    .dataframe tbody tr th:only-of-type {\n",
              "        vertical-align: middle;\n",
              "    }\n",
              "\n",
              "    .dataframe tbody tr th {\n",
              "        vertical-align: top;\n",
              "    }\n",
              "\n",
              "    .dataframe thead th {\n",
              "        text-align: right;\n",
              "    }\n",
              "</style>\n",
              "<table border=\"1\" class=\"dataframe\">\n",
              "  <thead>\n",
              "    <tr style=\"text-align: right;\">\n",
              "      <th></th>\n",
              "      <th>Text</th>\n",
              "      <th>Sentiment</th>\n",
              "    </tr>\n",
              "  </thead>\n",
              "  <tbody>\n",
              "    <tr>\n",
              "      <th>0</th>\n",
              "      <td>นี้ๆชวนบ่อยสะ</td>\n",
              "      <td>neu</td>\n",
              "    </tr>\n",
              "    <tr>\n",
              "      <th>1</th>\n",
              "      <td>(พยาบาลพัฒนาระบบคุณภาพ), โรงพยาบาลกรุงเทพภูเก็...</td>\n",
              "      <td>neu</td>\n",
              "    </tr>\n",
              "    <tr>\n",
              "      <th>2</th>\n",
              "      <td>เคยเจอแบบนี้ตอนนั่งแท็กซี่กลับจากคอนเสิร์ตคนเด...</td>\n",
              "      <td>neu</td>\n",
              "    </tr>\n",
              "    <tr>\n",
              "      <th>3</th>\n",
              "      <td>นิสสันมาแหะ</td>\n",
              "      <td>neu</td>\n",
              "    </tr>\n",
              "    <tr>\n",
              "      <th>4</th>\n",
              "      <td>อยากกินอ่ะหมู 😣😣😣</td>\n",
              "      <td>pos</td>\n",
              "    </tr>\n",
              "  </tbody>\n",
              "</table>\n",
              "</div>"
            ],
            "text/plain": [
              "                                                Text Sentiment\n",
              "0                                      นี้ๆชวนบ่อยสะ       neu\n",
              "1  (พยาบาลพัฒนาระบบคุณภาพ), โรงพยาบาลกรุงเทพภูเก็...       neu\n",
              "2  เคยเจอแบบนี้ตอนนั่งแท็กซี่กลับจากคอนเสิร์ตคนเด...       neu\n",
              "3                                        นิสสันมาแหะ       neu\n",
              "4                                  อยากกินอ่ะหมู 😣😣😣       pos"
            ]
          },
          "execution_count": 3,
          "metadata": {},
          "output_type": "execute_result"
        }
      ],
      "source": [
        "# 3. โหลดข้อมูล\n",
        "df = pd.read_excel('rawdata_sentiment.xlsx')\n",
        "print(\"data sentiment shape\", df.shape)\n",
        "df.to_csv('rawdata_sentiment.csv',index=False)\n",
        "df.head()"
      ]
    },
    {
      "cell_type": "code",
      "execution_count": 4,
      "metadata": {
        "colab": {
          "base_uri": "https://localhost:8080/",
          "height": 34
        },
        "id": "E3Ww3CIi6z5X",
        "outputId": "fed8efc7-5125-4bb7-d7f2-abc76010a4d4"
      },
      "outputs": [],
      "source": [
        "# 4. ตัดคำไทย\n",
        "def thai_tokenizer(text):\n",
        "    return word_tokenize(str(text), engine='newmm')\n",
        "\n",
        "df[\"processed\"] = df[\"Text\"].map(lambda x: \"|\".join(thai_tokenizer(x)))\n",
        "df[\"wc\"] = df.processed.map(lambda x: len(x.split(\"|\")))\n",
        "df[\"uwc\"] = df.processed.map(lambda x: len(set(x.split(\"|\"))))"
      ]
    },
    {
      "cell_type": "code",
      "execution_count": 5,
      "metadata": {},
      "outputs": [
        {
          "data": {
            "application/vnd.microsoft.datawrangler.viewer.v0+json": {
              "columns": [
                {
                  "name": "Sentiment",
                  "rawType": "object",
                  "type": "string"
                },
                {
                  "name": "count",
                  "rawType": "float64",
                  "type": "float"
                }
              ],
              "ref": "a37df7e7-b808-4a54-8017-63fdeef21c69",
              "rows": [
                [
                  "neu",
                  "0.5626666666666666"
                ],
                [
                  "neg",
                  "0.25733333333333336"
                ],
                [
                  "pos",
                  "0.18"
                ]
              ],
              "shape": {
                "columns": 1,
                "rows": 3
              }
            },
            "text/plain": [
              "Sentiment\n",
              "neu    0.562667\n",
              "neg    0.257333\n",
              "pos    0.180000\n",
              "Name: count, dtype: float64"
            ]
          },
          "execution_count": 5,
          "metadata": {},
          "output_type": "execute_result"
        }
      ],
      "source": [
        "#prevalence\n",
        "df[\"Sentiment\"].value_counts() / df.shape[0]"
      ]
    },
    {
      "cell_type": "code",
      "execution_count": 6,
      "metadata": {},
      "outputs": [
        {
          "data": {
            "application/vnd.microsoft.datawrangler.viewer.v0+json": {
              "columns": [
                {
                  "name": "index",
                  "rawType": "int64",
                  "type": "integer"
                },
                {
                  "name": "Text",
                  "rawType": "object",
                  "type": "string"
                },
                {
                  "name": "Sentiment",
                  "rawType": "object",
                  "type": "string"
                },
                {
                  "name": "processed",
                  "rawType": "object",
                  "type": "string"
                },
                {
                  "name": "wc",
                  "rawType": "int64",
                  "type": "integer"
                },
                {
                  "name": "uwc",
                  "rawType": "int64",
                  "type": "integer"
                },
                {
                  "name": "tokens",
                  "rawType": "object",
                  "type": "unknown"
                },
                {
                  "name": "text_tokenized",
                  "rawType": "object",
                  "type": "string"
                }
              ],
              "ref": "b376de09-bf4d-4b2f-a55d-5ccbdc98151d",
              "rows": [
                [
                  "0",
                  "นี้ๆชวนบ่อยสะ",
                  "neu",
                  "นี้|ๆ|ชวน|บ่อย|สะ",
                  "5",
                  "5",
                  "['นี้', 'ๆ', 'ชวน', 'บ่อย', 'สะ']",
                  "นี้ ๆ ชวน บ่อย สะ"
                ],
                [
                  "1",
                  "(พยาบาลพัฒนาระบบคุณภาพ), โรงพยาบาลกรุงเทพภูเก็ต #พยาบาล #งานโรงพยาบาลกรุงเทพภูเก็ต #งานพยาบาล #อาชีพพยาบาล #หางานพยาบาล #สมัครงานโรงพยาบาลเครือBDMS #สมัครงานพยาบาล #งานโรงพยาบาล #หางานโรงพยาบาล #สมัครงานโรงพยาบาล",
                  "neu",
                  "(|พยาบาล|พัฒนา|ระบบ|คุณภาพ|),| |โรงพยาบาล|กรุงเทพ|ภูเก็ต| |#|พยาบาล| |#|งาน|โรงพยาบาล|กรุงเทพ|ภูเก็ต| |#|งาน|พยาบาล| |#|อาชีพ|พยาบาล| |#|หา|งาน|พยาบาล| |#|สมัครงาน|โรงพยาบาล|เครือ|BDMS| |#|สมัครงาน|พยาบาล| |#|งาน|โรงพยาบาล| |#|หา|งาน|โรงพยาบาล| |#|สมัครงาน|โรงพยาบาล",
                  "55",
                  "17",
                  "['(', 'พยาบาล', 'พัฒนา', 'ระบบ', 'คุณภาพ', '),', ' ', 'โรงพยาบาล', 'กรุงเทพ', 'ภูเก็ต', ' ', '#', 'พยาบาล', ' ', '#', 'งาน', 'โรงพยาบาล', 'กรุงเทพ', 'ภูเก็ต', ' ', '#', 'งาน', 'พยาบาล', ' ', '#', 'อาชีพ', 'พยาบาล', ' ', '#', 'หา', 'งาน', 'พยาบาล', ' ', '#', 'สมัครงาน', 'โรงพยาบาล', 'เครือ', 'BDMS', ' ', '#', 'สมัครงาน', 'พยาบาล', ' ', '#', 'งาน', 'โรงพยาบาล', ' ', '#', 'หา', 'งาน', 'โรงพยาบาล', ' ', '#', 'สมัครงาน', 'โรงพยาบาล']",
                  "( พยาบาล พัฒนา ระบบ คุณภาพ ),   โรงพยาบาล กรุงเทพ ภูเก็ต   # พยาบาล   # งาน โรงพยาบาล กรุงเทพ ภูเก็ต   # งาน พยาบาล   # อาชีพ พยาบาล   # หา งาน พยาบาล   # สมัครงาน โรงพยาบาล เครือ BDMS   # สมัครงาน พยาบาล   # งาน โรงพยาบาล   # หา งาน โรงพยาบาล   # สมัครงาน โรงพยาบาล"
                ],
                [
                  "2",
                  "เคยเจอแบบนี้ตอนนั่งแท็กซี่กลับจากคอนเสิร์ตคนเดียว ตอนนั้นดึกแล้วด้วย แต่เราไม่ได้แต่งตัวโป้นะ กระโปรงยาวถึงเข่าด้วยซ้ำ แม่มถามเราซ้ำๆอยู่คอนโดไหน (ตอนขึ้นเราบอกเค้าแค่ไปตรงโลตัสอ่อนนุช) ทำไมกลับคนเดียว ไม่มีแฟนหรอ แล้ววนกลับมาถามอีกว่าอยู่คอนโดไหนแบบจะรู้ให้ได้อ่ะ เราเลยบอกว่ายังไม่เข้าบ้านจะแวะแมคหาอะไรกินก่อน ก็ยังจะถามซ้ำอีกว่าคอนโดไหน พอดีถึงแมคพอดีเลยบอกให้จอดแล้วจ่ายตังค์รีบวิ่งเข้าแมคไป โชคดีที่วันนั้นมีเงินพอดีค่ารถ ไม่ต้องทอน",
                  "neu",
                  "เคย|เจอ|แบบนี้|ตอน|นั่ง|แท็กซี่|กลับ|จาก|คอนเสิร์ต|คนเดียว| |ตอนนั้น|ดึก|แล้วด้วย| |แต่|เรา|ไม่|ได้|แต่งตัว|โป้|นะ| |กระโปรง|ยาว|ถึง|เข่า|ด้วยซ้ำ| |แม่|ม|ถาม|เรา|ซ้ำๆ|อยู่|คอนโด|ไหน| |(|ตอน|ขึ้น|เรา|บอก|เค้า|แค่|ไป|ตรง|โลตัส|อ่อนนุช|)| |ทำไม|กลับ|คนเดียว| |ไม่|มี|แฟน|หรอ| |แล้ว|วน|กลับมา|ถาม|อี|กว่า|อยู่|คอนโด|ไหน|แบบ|จะ|รู้|ให้ได้|อ่ะ| |เรา|เลย|บอ|กว่า|ยัง|ไม่|เข้า|บ้าน|จะ|แวะ|แมค|หา|อะไร|กิน|ก่อน| |ก็|ยัง|จะ|ถาม|ซ้ำ|อี|กว่า|คอนโด|ไหน| |พอดี|ถึง|แมค|พอดี|เลย|บอก|ให้|จอด|แล้ว|จ่าย|ตังค์|รีบ|วิ่ง|เข้า|แมค|ไป| |โชคดี|ที่|วันนั้น|มีเงิน|พอดี|ค่ารถ| |ไม่ต้อง|ทอน",
                  "127",
                  "84",
                  "['เคย', 'เจอ', 'แบบนี้', 'ตอน', 'นั่ง', 'แท็กซี่', 'กลับ', 'จาก', 'คอนเสิร์ต', 'คนเดียว', ' ', 'ตอนนั้น', 'ดึก', 'แล้วด้วย', ' ', 'แต่', 'เรา', 'ไม่', 'ได้', 'แต่งตัว', 'โป้', 'นะ', ' ', 'กระโปรง', 'ยาว', 'ถึง', 'เข่า', 'ด้วยซ้ำ', ' ', 'แม่', 'ม', 'ถาม', 'เรา', 'ซ้ำๆ', 'อยู่', 'คอนโด', 'ไหน', ' ', '(', 'ตอน', 'ขึ้น', 'เรา', 'บอก', 'เค้า', 'แค่', 'ไป', 'ตรง', 'โลตัส', 'อ่อนนุช', ')', ' ', 'ทำไม', 'กลับ', 'คนเดียว', ' ', 'ไม่', 'มี', 'แฟน', 'หรอ', ' ', 'แล้ว', 'วน', 'กลับมา', 'ถาม', 'อี', 'กว่า', 'อยู่', 'คอนโด', 'ไหน', 'แบบ', 'จะ', 'รู้', 'ให้ได้', 'อ่ะ', ' ', 'เรา', 'เลย', 'บอ', 'กว่า', 'ยัง', 'ไม่', 'เข้า', 'บ้าน', 'จะ', 'แวะ', 'แมค', 'หา', 'อะไร', 'กิน', 'ก่อน', ' ', 'ก็', 'ยัง', 'จะ', 'ถาม', 'ซ้ำ', 'อี', 'กว่า', 'คอนโด', 'ไหน', ' ', 'พอดี', 'ถึง', 'แมค', 'พอดี', 'เลย', 'บอก', 'ให้', 'จอด', 'แล้ว', 'จ่าย', 'ตังค์', 'รีบ', 'วิ่ง', 'เข้า', 'แมค', 'ไป', ' ', 'โชคดี', 'ที่', 'วันนั้น', 'มีเงิน', 'พอดี', 'ค่ารถ', ' ', 'ไม่ต้อง', 'ทอน']",
                  "เคย เจอ แบบนี้ ตอน นั่ง แท็กซี่ กลับ จาก คอนเสิร์ต คนเดียว   ตอนนั้น ดึก แล้วด้วย   แต่ เรา ไม่ ได้ แต่งตัว โป้ นะ   กระโปรง ยาว ถึง เข่า ด้วยซ้ำ   แม่ ม ถาม เรา ซ้ำๆ อยู่ คอนโด ไหน   ( ตอน ขึ้น เรา บอก เค้า แค่ ไป ตรง โลตัส อ่อนนุช )   ทำไม กลับ คนเดียว   ไม่ มี แฟน หรอ   แล้ว วน กลับมา ถาม อี กว่า อยู่ คอนโด ไหน แบบ จะ รู้ ให้ได้ อ่ะ   เรา เลย บอ กว่า ยัง ไม่ เข้า บ้าน จะ แวะ แมค หา อะไร กิน ก่อน   ก็ ยัง จะ ถาม ซ้ำ อี กว่า คอนโด ไหน   พอดี ถึง แมค พอดี เลย บอก ให้ จอด แล้ว จ่าย ตังค์ รีบ วิ่ง เข้า แมค ไป   โชคดี ที่ วันนั้น มีเงิน พอดี ค่ารถ   ไม่ต้อง ทอน"
                ],
                [
                  "3",
                  "นิสสันมาแหะ",
                  "neu",
                  "นิสสัน|มา|แหะ",
                  "3",
                  "3",
                  "['นิสสัน', 'มา', 'แหะ']",
                  "นิสสัน มา แหะ"
                ],
                [
                  "4",
                  "อยากกินอ่ะหมู 😣😣😣",
                  "pos",
                  "อยาก|กิน|อ่ะ|หมู| |😣😣😣",
                  "6",
                  "6",
                  "['อยาก', 'กิน', 'อ่ะ', 'หมู', ' ', '😣😣😣']",
                  "อยาก กิน อ่ะ หมู   😣😣😣"
                ]
              ],
              "shape": {
                "columns": 7,
                "rows": 5
              }
            },
            "text/html": [
              "<div>\n",
              "<style scoped>\n",
              "    .dataframe tbody tr th:only-of-type {\n",
              "        vertical-align: middle;\n",
              "    }\n",
              "\n",
              "    .dataframe tbody tr th {\n",
              "        vertical-align: top;\n",
              "    }\n",
              "\n",
              "    .dataframe thead th {\n",
              "        text-align: right;\n",
              "    }\n",
              "</style>\n",
              "<table border=\"1\" class=\"dataframe\">\n",
              "  <thead>\n",
              "    <tr style=\"text-align: right;\">\n",
              "      <th></th>\n",
              "      <th>Text</th>\n",
              "      <th>Sentiment</th>\n",
              "      <th>processed</th>\n",
              "      <th>wc</th>\n",
              "      <th>uwc</th>\n",
              "      <th>tokens</th>\n",
              "      <th>text_tokenized</th>\n",
              "    </tr>\n",
              "  </thead>\n",
              "  <tbody>\n",
              "    <tr>\n",
              "      <th>0</th>\n",
              "      <td>นี้ๆชวนบ่อยสะ</td>\n",
              "      <td>neu</td>\n",
              "      <td>นี้|ๆ|ชวน|บ่อย|สะ</td>\n",
              "      <td>5</td>\n",
              "      <td>5</td>\n",
              "      <td>[นี้, ๆ, ชวน, บ่อย, สะ]</td>\n",
              "      <td>นี้ ๆ ชวน บ่อย สะ</td>\n",
              "    </tr>\n",
              "    <tr>\n",
              "      <th>1</th>\n",
              "      <td>(พยาบาลพัฒนาระบบคุณภาพ), โรงพยาบาลกรุงเทพภูเก็...</td>\n",
              "      <td>neu</td>\n",
              "      <td>(|พยาบาล|พัฒนา|ระบบ|คุณภาพ|),| |โรงพยาบาล|กรุง...</td>\n",
              "      <td>55</td>\n",
              "      <td>17</td>\n",
              "      <td>[(, พยาบาล, พัฒนา, ระบบ, คุณภาพ, ),,  , โรงพยา...</td>\n",
              "      <td>( พยาบาล พัฒนา ระบบ คุณภาพ ),   โรงพยาบาล กรุง...</td>\n",
              "    </tr>\n",
              "    <tr>\n",
              "      <th>2</th>\n",
              "      <td>เคยเจอแบบนี้ตอนนั่งแท็กซี่กลับจากคอนเสิร์ตคนเด...</td>\n",
              "      <td>neu</td>\n",
              "      <td>เคย|เจอ|แบบนี้|ตอน|นั่ง|แท็กซี่|กลับ|จาก|คอนเส...</td>\n",
              "      <td>127</td>\n",
              "      <td>84</td>\n",
              "      <td>[เคย, เจอ, แบบนี้, ตอน, นั่ง, แท็กซี่, กลับ, จ...</td>\n",
              "      <td>เคย เจอ แบบนี้ ตอน นั่ง แท็กซี่ กลับ จาก คอนเส...</td>\n",
              "    </tr>\n",
              "    <tr>\n",
              "      <th>3</th>\n",
              "      <td>นิสสันมาแหะ</td>\n",
              "      <td>neu</td>\n",
              "      <td>นิสสัน|มา|แหะ</td>\n",
              "      <td>3</td>\n",
              "      <td>3</td>\n",
              "      <td>[นิสสัน, มา, แหะ]</td>\n",
              "      <td>นิสสัน มา แหะ</td>\n",
              "    </tr>\n",
              "    <tr>\n",
              "      <th>4</th>\n",
              "      <td>อยากกินอ่ะหมู 😣😣😣</td>\n",
              "      <td>pos</td>\n",
              "      <td>อยาก|กิน|อ่ะ|หมู| |😣😣😣</td>\n",
              "      <td>6</td>\n",
              "      <td>6</td>\n",
              "      <td>[อยาก, กิน, อ่ะ, หมู,  , 😣😣😣]</td>\n",
              "      <td>อยาก กิน อ่ะ หมู   😣😣😣</td>\n",
              "    </tr>\n",
              "  </tbody>\n",
              "</table>\n",
              "</div>"
            ],
            "text/plain": [
              "                                                Text Sentiment  \\\n",
              "0                                      นี้ๆชวนบ่อยสะ       neu   \n",
              "1  (พยาบาลพัฒนาระบบคุณภาพ), โรงพยาบาลกรุงเทพภูเก็...       neu   \n",
              "2  เคยเจอแบบนี้ตอนนั่งแท็กซี่กลับจากคอนเสิร์ตคนเด...       neu   \n",
              "3                                        นิสสันมาแหะ       neu   \n",
              "4                                  อยากกินอ่ะหมู 😣😣😣       pos   \n",
              "\n",
              "                                           processed   wc  uwc  \\\n",
              "0                                  นี้|ๆ|ชวน|บ่อย|สะ    5    5   \n",
              "1  (|พยาบาล|พัฒนา|ระบบ|คุณภาพ|),| |โรงพยาบาล|กรุง...   55   17   \n",
              "2  เคย|เจอ|แบบนี้|ตอน|นั่ง|แท็กซี่|กลับ|จาก|คอนเส...  127   84   \n",
              "3                                      นิสสัน|มา|แหะ    3    3   \n",
              "4                             อยาก|กิน|อ่ะ|หมู| |😣😣😣    6    6   \n",
              "\n",
              "                                              tokens  \\\n",
              "0                            [นี้, ๆ, ชวน, บ่อย, สะ]   \n",
              "1  [(, พยาบาล, พัฒนา, ระบบ, คุณภาพ, ),,  , โรงพยา...   \n",
              "2  [เคย, เจอ, แบบนี้, ตอน, นั่ง, แท็กซี่, กลับ, จ...   \n",
              "3                                  [นิสสัน, มา, แหะ]   \n",
              "4                      [อยาก, กิน, อ่ะ, หมู,  , 😣😣😣]   \n",
              "\n",
              "                                      text_tokenized  \n",
              "0                                  นี้ ๆ ชวน บ่อย สะ  \n",
              "1  ( พยาบาล พัฒนา ระบบ คุณภาพ ),   โรงพยาบาล กรุง...  \n",
              "2  เคย เจอ แบบนี้ ตอน นั่ง แท็กซี่ กลับ จาก คอนเส...  \n",
              "3                                      นิสสัน มา แหะ  \n",
              "4                             อยาก กิน อ่ะ หมู   😣😣😣  "
            ]
          },
          "execution_count": 6,
          "metadata": {},
          "output_type": "execute_result"
        }
      ],
      "source": [
        "df['tokens'] = df['Text'].apply(thai_tokenizer)\n",
        "df['text_tokenized'] = df['tokens'].apply(lambda tokens: ' '.join(tokens))\n",
        "df.head()"
      ]
    },
    {
      "cell_type": "markdown",
      "metadata": {
        "id": "-jPw7Rbu6z5f"
      },
      "source": [
        "## Train-validation Split"
      ]
    },
    {
      "cell_type": "code",
      "execution_count": 7,
      "metadata": {
        "id": "ioXCNzVX6z5h"
      },
      "outputs": [],
      "source": [
        "# Train/Test Split\n",
        "train_df, valid_df = train_test_split(df, test_size=0.2, stratify=df['Sentiment'], random_state=0)\n",
        "\n",
        "train_df = train_df.reset_index(drop=True)\n",
        "valid_df = valid_df.reset_index(drop=True)\n"
      ]
    },
    {
      "cell_type": "code",
      "execution_count": 8,
      "metadata": {
        "colab": {
          "base_uri": "https://localhost:8080/",
          "height": 102
        },
        "id": "sH1t3bal6z5o",
        "outputId": "0c50fe48-3671-4940-d4fa-294161e84fa0"
      },
      "outputs": [
        {
          "name": "stdout",
          "output_type": "stream",
          "text": [
            "Sentiment\n",
            "neu    0.5625\n",
            "neg    0.2575\n",
            "pos    0.1800\n",
            "Name: count, dtype: float64\n"
          ]
        }
      ],
      "source": [
        "#prevalence\n",
        "print(train_df[\"Sentiment\"].value_counts() / train_df.shape[0])"
      ]
    },
    {
      "cell_type": "code",
      "execution_count": 9,
      "metadata": {},
      "outputs": [
        {
          "name": "stdout",
          "output_type": "stream",
          "text": [
            "Sentiment\n",
            "neu    0.563333\n",
            "neg    0.256667\n",
            "pos    0.180000\n",
            "Name: count, dtype: float64\n"
          ]
        }
      ],
      "source": [
        "#prevalence\n",
        "print(valid_df[\"Sentiment\"].value_counts() / valid_df.shape[0])"
      ]
    },
    {
      "cell_type": "markdown",
      "metadata": {
        "id": "oUAqMvNe6z5q"
      },
      "source": [
        "## Create Features"
      ]
    },
    {
      "cell_type": "code",
      "execution_count": 10,
      "metadata": {
        "id": "5eI-DEzW6z5r"
      },
      "outputs": [],
      "source": [
        "#dependent variables\n",
        "y_train = train_df[\"Sentiment\"]\n",
        "y_valid = valid_df[\"Sentiment\"]"
      ]
    },
    {
      "cell_type": "code",
      "execution_count": 11,
      "metadata": {
        "colab": {
          "base_uri": "https://localhost:8080/",
          "height": 34
        },
        "id": "Ry4GTGaC6z5t",
        "outputId": "30ae3a5e-b10b-4ec6-d907-5323714b1017"
      },
      "outputs": [
        {
          "name": "stderr",
          "output_type": "stream",
          "text": [
            "c:\\ProgramData\\anaconda3\\lib\\site-packages\\sklearn\\feature_extraction\\text.py:528: UserWarning: The parameter 'token_pattern' will not be used since 'tokenizer' is not None'\n",
            "  warnings.warn(\n"
          ]
        },
        {
          "data": {
            "text/plain": [
              "((2400, 472), (600, 472))"
            ]
          },
          "execution_count": 11,
          "metadata": {},
          "output_type": "execute_result"
        }
      ],
      "source": [
        "#text faetures\n",
        "from sklearn.feature_extraction.text import TfidfVectorizer\n",
        "from sklearn.linear_model import LogisticRegression\n",
        "\n",
        "tfidf = TfidfVectorizer(tokenizer=process_thai, ngram_range=(1,2), min_df=20, sublinear_tf=True)\n",
        "tfidf_fit = tfidf.fit(df[\"Text\"].fillna(\"\").astype(str))\n",
        "text_train = tfidf_fit.transform(train_df[\"Text\"].fillna(\"\").astype(str))\n",
        "text_valid = tfidf_fit.transform(valid_df[\"Text\"].fillna(\"\").astype(str))\n",
        "\n",
        "text_train.shape, text_valid.shape"
      ]
    },
    {
      "cell_type": "code",
      "execution_count": 12,
      "metadata": {},
      "outputs": [
        {
          "name": "stdout",
          "output_type": "stream",
          "text": [
            "Class: neg\n",
            "  feature     tfidf class\n",
            "0     ไม่  0.067440   neg\n",
            "1      ไป  0.044725   neg\n",
            "2     เลย  0.042335   neg\n",
            "3     แต่  0.040277   neg\n",
            "4     กิน  0.036109   neg\n",
            "----------------------------------------\n",
            "Class: neu\n",
            "  feature     tfidf class\n",
            "0       #  0.043883   neu\n",
            "1   xxrep  0.037236   neu\n",
            "2      ไป  0.032301   neu\n",
            "3     ที่  0.032250   neu\n",
            "4      มี  0.028445   neu\n",
            "----------------------------------------\n",
            "Class: pos\n",
            "  feature     tfidf class\n",
            "0      ไป  0.055797   pos\n",
            "1     กิน  0.048028   pos\n",
            "2   xxrep  0.043770   pos\n",
            "3    อยาก  0.041146   pos\n",
            "4     เลย  0.039771   pos\n",
            "----------------------------------------\n"
          ]
        }
      ],
      "source": [
        "import numpy as np\n",
        "import pandas as pd\n",
        "\n",
        "def top_tfidf_feats(row, features, top_n=10):\n",
        "    '''Return top n tfidf features in vector, sorted by tfidf value.'''\n",
        "    topn_ids = np.argsort(row)[::-1][:top_n]\n",
        "    top_feats = [(features[i], row[i]) for i in topn_ids]\n",
        "    return pd.DataFrame(top_feats, columns=['feature', 'tfidf'])\n",
        "\n",
        "def top_feats_by_class(X, y, features, top_n=10):\n",
        "    '''Return top n features for each class'''\n",
        "    classes = np.unique(y)\n",
        "    dfs = []\n",
        "    for c in classes:\n",
        "        idxs = np.where(y == c)\n",
        "        class_tfidf = X[idxs].mean(axis=0)\n",
        "        df = top_tfidf_feats(np.asarray(class_tfidf).flatten(), features, top_n=top_n)\n",
        "        df['class'] = c\n",
        "        dfs.append(df)\n",
        "    return dfs\n",
        "\n",
        "# ควรใช้ get_feature_names_out() แทน get_feature_names() ใน scikit-learn v1+\n",
        "features = tfidf_fit.get_feature_names_out()\n",
        "# y_train ต้องเป็น numpy array/string\n",
        "dfs = top_feats_by_class(text_train, y_train.values, features, top_n=10)\n",
        "\n",
        "# ดู top 10 คำสำคัญของแต่ละคลาส\n",
        "for df_class in dfs:\n",
        "    print(f\"Class: {df_class['class'][0]}\")\n",
        "    print(df_class.head())\n",
        "    print('-'*40)\n"
      ]
    },
    {
      "cell_type": "code",
      "execution_count": 13,
      "metadata": {
        "id": "fptGl_UZ-ag8",
        "outputId": "bb0dd7fd-554d-44ac-b22f-b4f29bb46905"
      },
      "outputs": [
        {
          "data": {
            "image/png": "[encoded data removed]",
            "text/plain": [
              "<Figure size 700x400 with 1 Axes>"
            ]
          },
          "metadata": {},
          "output_type": "display_data"
        },
        {
          "data": {
            "image/png": "[encoded data removed]",
            "text/plain": [
              "<Figure size 700x400 with 1 Axes>"
            ]
          },
          "metadata": {},
          "output_type": "display_data"
        },
        {
          "data": {
            "image/png": "[encoded data removed]",
            "text/plain": [
              "<Figure size 700x400 with 1 Axes>"
            ]
          },
          "metadata": {},
          "output_type": "display_data"
        }
      ],
      "source": [
        "# %matplotlib inline\n",
        "for df_class in dfs:\n",
        "    plt.figure(figsize=(7,4))\n",
        "    plt.barh(df_class['feature'][::-1], df_class['tfidf'][::-1])\n",
        "    plt.title(f\"Top TF-IDF for class: {df_class['class'][0]}\")\n",
        "    plt.xlabel(\"Mean TF-IDF\")\n",
        "    plt.show()"
      ]
    },
    {
      "cell_type": "markdown",
      "metadata": {},
      "source": [
        "# GridSearchCV model"
      ]
    },
    {
      "cell_type": "code",
      "execution_count": 14,
      "metadata": {},
      "outputs": [
        {
          "name": "stdout",
          "output_type": "stream",
          "text": [
            "Best Params: {'C': 2, 'penalty': 'l1', 'solver': 'liblinear'}\n",
            "Best CV Score: 0.5371099419437011\n",
            "              precision    recall  f1-score   support\n",
            "\n",
            "         neg       0.68      0.51      0.58       154\n",
            "         neu       0.67      0.86      0.75       338\n",
            "         pos       0.53      0.25      0.34       108\n",
            "\n",
            "    accuracy                           0.66       600\n",
            "   macro avg       0.63      0.54      0.56       600\n",
            "weighted avg       0.65      0.66      0.63       600\n",
            "\n"
          ]
        }
      ],
      "source": [
        "from sklearn.model_selection import GridSearchCV\n",
        "\n",
        "param_grid = {\n",
        "    \"C\": [0.1, 0.5, 1, 2, 5, 10],\n",
        "    \"penalty\": [\"l1\", \"l2\"],\n",
        "    \"solver\": [\"liblinear\"]\n",
        "}\n",
        "gs = GridSearchCV(LogisticRegression(max_iter=1000, multi_class=\"ovr\"), param_grid, cv=5, scoring='f1_macro')\n",
        "gs.fit(text_train, y_train)\n",
        "print(\"Best Params:\", gs.best_params_)\n",
        "print(\"Best CV Score:\", gs.best_score_)\n",
        "\n",
        "# ทำนายบน valid\n",
        "y_pred = gs.predict(text_valid)\n",
        "from sklearn.metrics import classification_report\n",
        "print(classification_report(y_valid, y_pred))\n"
      ]
    },
    {
      "cell_type": "code",
      "execution_count": 15,
      "metadata": {},
      "outputs": [
        {
          "name": "stdout",
          "output_type": "stream",
          "text": [
            "Best Params RF: {'max_depth': 20, 'min_samples_split': 5, 'n_estimators': 200}\n",
            "Best RF CV Score: 0.5579559923248244\n",
            "              precision    recall  f1-score   support\n",
            "\n",
            "         neg      0.565     0.591     0.578       154\n",
            "         neu      0.707     0.692     0.700       338\n",
            "         pos      0.380     0.380     0.380       108\n",
            "\n",
            "    accuracy                          0.610       600\n",
            "   macro avg      0.551     0.554     0.552       600\n",
            "weighted avg      0.612     0.610     0.611       600\n",
            "\n"
          ]
        }
      ],
      "source": [
        "# RandomForest GridSearchCV\n",
        "from sklearn.ensemble import RandomForestClassifier\n",
        "\n",
        "param_grid_rf = {\n",
        "    'n_estimators': [100, 200],\n",
        "    'max_depth': [None, 10, 20],\n",
        "    'min_samples_split': [2, 5]\n",
        "}\n",
        "\n",
        "rf = RandomForestClassifier(class_weight=\"balanced\", random_state=42, n_jobs=-1)\n",
        "gs_rf = GridSearchCV(rf, param_grid_rf, cv=5, scoring='f1_macro')\n",
        "gs_rf.fit(text_train, y_train)\n",
        "\n",
        "print(\"Best Params RF:\", gs_rf.best_params_)\n",
        "print(\"Best RF CV Score:\", gs_rf.best_score_)\n",
        "\n",
        "y_pred_rf = gs_rf.predict(text_valid)\n",
        "print(classification_report(y_valid, y_pred_rf, digits=3))\n"
      ]
    },
    {
      "cell_type": "code",
      "execution_count": 16,
      "metadata": {},
      "outputs": [
        {
          "name": "stdout",
          "output_type": "stream",
          "text": [
            "Best Params SVM: {'C': 0.1}\n",
            "Best SVM CV Score: 0.5660983412608145\n",
            "              precision    recall  f1-score   support\n",
            "\n",
            "         neg      0.617     0.597     0.607       154\n",
            "         neu      0.683     0.757     0.718       338\n",
            "         pos      0.447     0.315     0.370       108\n",
            "\n",
            "    accuracy                          0.637       600\n",
            "   macro avg      0.582     0.557     0.565       600\n",
            "weighted avg      0.624     0.637     0.627       600\n",
            "\n"
          ]
        }
      ],
      "source": [
        "# SVM (LinearSVC) GridSearchCV\n",
        "from sklearn.model_selection import GridSearchCV\n",
        "from sklearn.svm import LinearSVC\n",
        "\n",
        "param_grid_svm = {\n",
        "    'C': [0.1, 1, 2, 5, 10]\n",
        "}\n",
        "\n",
        "svm = LinearSVC(class_weight='balanced', max_iter=3000)\n",
        "gs_svm = GridSearchCV(svm, param_grid_svm, cv=5, scoring='f1_macro')\n",
        "gs_svm.fit(text_train, y_train)\n",
        "\n",
        "print(\"Best Params SVM:\", gs_svm.best_params_)\n",
        "print(\"Best SVM CV Score:\", gs_svm.best_score_)\n",
        "\n",
        "y_pred_svm = gs_svm.predict(text_valid)\n",
        "print(classification_report(y_valid, y_pred_svm, digits=3))"
      ]
    },
    {
      "cell_type": "code",
      "execution_count": 17,
      "metadata": {},
      "outputs": [
        {
          "name": "stdout",
          "output_type": "stream",
          "text": [
            "Best Params XGB: {'learning_rate': 0.2, 'max_depth': 10, 'n_estimators': 200}\n",
            "Best XGB CV Score: 0.5304657731327121\n",
            "              precision    recall  f1-score   support\n",
            "\n",
            "         neg      0.579     0.526     0.551       154\n",
            "         neu      0.659     0.766     0.709       338\n",
            "         pos      0.493     0.306     0.377       108\n",
            "\n",
            "    accuracy                          0.622       600\n",
            "   macro avg      0.577     0.533     0.546       600\n",
            "weighted avg      0.608     0.622     0.609       600\n",
            "\n"
          ]
        }
      ],
      "source": [
        "from xgboost import XGBClassifier\n",
        "from sklearn.model_selection import GridSearchCV\n",
        "from sklearn.preprocessing import LabelEncoder\n",
        "from sklearn.metrics import classification_report\n",
        "\n",
        "# 1. ตั้งค่าพารามิเตอร์\n",
        "param_grid_xgb = {\n",
        "    'n_estimators': [100, 200],\n",
        "    'max_depth': [3, 6, 10],\n",
        "    'learning_rate': [0.05, 0.1, 0.2]\n",
        "}\n",
        "\n",
        "# 2. เตรียม model\n",
        "xgb = XGBClassifier(\n",
        "    # use_label_encoder=False,\n",
        "    eval_metric='mlogloss',\n",
        "    random_state=0,\n",
        "    n_jobs=-1\n",
        ")\n",
        "gs_xgb = GridSearchCV(xgb, param_grid_xgb, cv=5, scoring='f1_macro')\n",
        "\n",
        "# 3. แปลง label เป็นตัวเลข\n",
        "le = LabelEncoder()\n",
        "y_train_enc = le.fit_transform(y_train)\n",
        "y_valid_enc = le.transform(y_valid)\n",
        "\n",
        "# 4. train grid search\n",
        "gs_xgb.fit(text_train, y_train_enc)\n",
        "\n",
        "# 5. ทำนาย + กลับ label กลับเป็นชื่อเดิม\n",
        "y_pred_xgb = gs_xgb.predict(text_valid)\n",
        "y_pred_xgb_label = le.inverse_transform(y_pred_xgb)\n",
        "\n",
        "# 6. รายงานผล\n",
        "print(\"Best Params XGB:\", gs_xgb.best_params_)\n",
        "print(\"Best XGB CV Score:\", gs_xgb.best_score_)\n",
        "\n",
        "print(classification_report(y_valid, y_pred_xgb_label, digits=3))   # <-- แบบ string label!"
      ]
    },
    {
      "cell_type": "code",
      "execution_count": 18,
      "metadata": {},
      "outputs": [
        {
          "name": "stdout",
          "output_type": "stream",
          "text": [
            "Best LR params: {'C': 2, 'penalty': 'l1', 'solver': 'liblinear'}\n",
            "Best LR CV score: 0.5395735093972922\n",
            "Score (accuracy): 0.5622787881499485\n",
            "              precision    recall  f1-score   support\n",
            "\n",
            "         neg      0.686     0.526     0.596       154\n",
            "         neu      0.671     0.855     0.752       338\n",
            "         pos      0.529     0.250     0.340       108\n",
            "\n",
            "    accuracy                          0.662       600\n",
            "   macro avg      0.629     0.544     0.562       600\n",
            "weighted avg      0.649     0.662     0.637       600\n",
            "\n"
          ]
        }
      ],
      "source": [
        "# Assume wc, uwc, text_train, text_valid, y_train, y_valid ถูกสร้างไว้แล้ว\n",
        "from sklearn.preprocessing import StandardScaler\n",
        "from sklearn.linear_model import LogisticRegression\n",
        "from sklearn.metrics import classification_report\n",
        "import numpy as np\n",
        "\n",
        "# scale wc, uwc\n",
        "scaler = StandardScaler()\n",
        "scaler_fit = scaler.fit(df[[\"wc\",\"uwc\"]].astype(float))\n",
        "num_train = scaler_fit.transform(train_df[[\"wc\",\"uwc\"]].astype(float))\n",
        "num_valid = scaler_fit.transform(valid_df[[\"wc\",\"uwc\"]].astype(float))\n",
        "\n",
        "# combine features\n",
        "X_train = np.concatenate([num_train, text_train.toarray()], axis=1)\n",
        "X_valid = np.concatenate([num_valid, text_valid.toarray()], axis=1)\n",
        "\n",
        "# กำหนดพารามิเตอร์ที่ต้องการทดสอบ\n",
        "param_grid = {\n",
        "    \"C\": [0.1, 0.5, 1, 2, 5, 10],\n",
        "    \"penalty\": [\"l1\", \"l2\"],\n",
        "    \"solver\": [\"liblinear\"]  # ต้องใช้ liblinear ถ้า penalty='l1'\n",
        "}\n",
        "\n",
        "gs = GridSearchCV(\n",
        "    LogisticRegression(dual=False, multi_class=\"ovr\", max_iter=1000),\n",
        "    param_grid=param_grid,\n",
        "    cv=5,\n",
        "    scoring='f1_macro'\n",
        ")\n",
        "\n",
        "gs.fit(X_train, y_train)\n",
        "\n",
        "print(\"Best LR params:\", gs.best_params_)\n",
        "print(\"Best LR CV score:\", gs.best_score_)\n",
        "\n",
        "y_pred = gs.predict(X_valid)\n",
        "\n",
        "model_score = gs.score(X_valid, y_valid)  # accuracy\n",
        "print(\"Score (accuracy):\", model_score)\n",
        "print(classification_report(y_valid, y_pred, digits=3))"
      ]
    },
    {
      "cell_type": "markdown",
      "metadata": {},
      "source": [
        "## Logistic Regression"
      ]
    },
    {
      "cell_type": "code",
      "execution_count": 21,
      "metadata": {
        "colab": {
          "base_uri": "https://localhost:8080/",
          "height": 34
        },
        "id": "bj5PA95S6z5w",
        "outputId": "925ecd72-0444-48d0-baa9-1e724d0242f5"
      },
      "outputs": [
        {
          "name": "stdout",
          "output_type": "stream",
          "text": [
            "[27.311      19.00066667] [1965.16694567  531.19866622]\n",
            "(2400, 474) (600, 474)\n",
            "Score(accuracy) : 0.6616666666666666\n",
            "              precision    recall  f1-score   support\n",
            "\n",
            "         neg      0.686     0.526     0.596       154\n",
            "         neu      0.671     0.855     0.752       338\n",
            "         pos      0.529     0.250     0.340       108\n",
            "\n",
            "    accuracy                          0.662       600\n",
            "   macro avg      0.629     0.544     0.562       600\n",
            "weighted avg      0.649     0.662     0.637       600\n",
            "\n"
          ]
        }
      ],
      "source": [
        "#word count and unique word counts; actually might not be so useful\n",
        "from sklearn.preprocessing import StandardScaler\n",
        "\n",
        "scaler = StandardScaler()\n",
        "scaler_fit = scaler.fit(df[[\"wc\",\"uwc\"]].astype(float))\n",
        "print(scaler_fit.mean_, scaler_fit.var_)\n",
        "num_train = scaler_fit.transform(train_df[[\"wc\",\"uwc\"]].astype(float))\n",
        "num_valid = scaler_fit.transform(valid_df[[\"wc\",\"uwc\"]].astype(float))\n",
        "# num_test = scaler_fit.transform(test_df[[\"wc\",\"uwc\"]].astype(float))\n",
        "num_train.shape, num_valid.shape\n",
        "\n",
        "#concatenate text and word count features\n",
        "X_train = np.concatenate([num_train,text_train.toarray()],axis=1)\n",
        "X_valid = np.concatenate([num_valid,text_valid.toarray()],axis=1)\n",
        "# X_test = np.concatenate([num_test,text_test.toarray()],axis=1)\n",
        "print(X_train.shape, X_valid.shape)\n",
        "\n",
        "#fit logistic regression models\n",
        "model = LogisticRegression(C=2., penalty=\"l1\", solver=\"liblinear\", dual=False, multi_class=\"ovr\")\n",
        "model.fit(X_train,y_train)\n",
        "model_score = model.score(X_valid,y_valid)\n",
        "\n",
        "y_pred = model.predict(X_valid)\n",
        "\n",
        "\n",
        "print(\"Score(accuracy) :\",model_score)\n",
        "\n",
        "print(classification_report(y_valid, y_pred, digits=3))"
      ]
    },
    {
      "cell_type": "markdown",
      "metadata": {
        "id": "jFGtgFHF6z51"
      },
      "source": [
        "### See Results"
      ]
    },
    {
      "cell_type": "code",
      "execution_count": 22,
      "metadata": {
        "id": "7cub1c5S6z51"
      },
      "outputs": [],
      "source": [
        "probs = model.predict_proba(X_valid)\n",
        "probs_df = pd.DataFrame(probs)\n",
        "probs_df.columns = model.classes_\n",
        "probs_df[\"preds\"] = model.predict(X_valid)\n",
        "probs_df[\"Sentiment\"] = valid_df[\"Sentiment\"]\n",
        "probs_df[\"Text\"] = valid_df[\"Text\"]\n",
        "probs_df[\"processed\"] = valid_df.processed\n",
        "probs_df[\"wc\"] = valid_df.wc\n",
        "probs_df[\"uwc\"] = valid_df.uwc\n",
        "probs_df[\"hit\"] = (probs_df.preds==probs_df[\"Sentiment\"])\n",
        "probs_df.to_csv(\"probs_df_linear.csv\", index=False)"
      ]
    },
    {
      "cell_type": "code",
      "execution_count": 23,
      "metadata": {
        "colab": {
          "base_uri": "https://localhost:8080/",
          "height": 300
        },
        "id": "pa4Q0nPS6z54",
        "outputId": "3e392b32-54c6-4fda-e819-af43e9ba0fd7"
      },
      "outputs": [
        {
          "name": "stdout",
          "output_type": "stream",
          "text": [
            "0.6616666666666666\n"
          ]
        },
        {
          "data": {
            "image/png": "[encoded data removed]",
            "text/plain": [
              "<Figure size 640x480 with 2 Axes>"
            ]
          },
          "metadata": {},
          "output_type": "display_data"
        }
      ],
      "source": [
        "from sklearn.metrics import confusion_matrix\n",
        "\n",
        "conf_mat = confusion_matrix(probs_df[\"Sentiment\"],probs_df.preds)\n",
        "print(model.score(X_valid,y_valid))\n",
        "sns.heatmap(conf_mat, annot=True, fmt=\"d\",\n",
        "            xticklabels=model.classes_, yticklabels=model.classes_)\n",
        "plt.ylabel(\"Actual\")\n",
        "plt.xlabel(\"Predicted\")\n",
        "plt.show()"
      ]
    },
    {
      "cell_type": "markdown",
      "metadata": {
        "id": "KIfXHEVn6z58"
      },
      "source": [
        "# Pre-trained Model"
      ]
    },
    {
      "cell_type": "markdown",
      "metadata": {},
      "source": [
        "### WangchanBERTa-finetuned-sentiment"
      ]
    },
    {
      "cell_type": "code",
      "execution_count": 26,
      "metadata": {},
      "outputs": [
        {
          "name": "stdout",
          "output_type": "stream",
          "text": [
            "                                                Text Sentiment\n",
            "0                                      นี้ๆชวนบ่อยสะ       neu\n",
            "1  (พยาบาลพัฒนาระบบคุณภาพ), โรงพยาบาลกรุงเทพภูเก็...       neu\n",
            "2  เคยเจอแบบนี้ตอนนั่งแท็กซี่กลับจากคอนเสิร์ตคนเด...       neu\n",
            "3                                        นิสสันมาแหะ       neu\n",
            "4                                  อยากกินอ่ะหมู 😣😣😣       pos\n",
            "\n",
            "Accuracy: 0.808\n",
            "              precision    recall  f1-score   support\n",
            "\n",
            "         neg      0.862     0.830     0.846       772\n",
            "         neu      0.797     0.900     0.846      1688\n",
            "         pos      0.752     0.489     0.593       540\n",
            "\n",
            "    accuracy                          0.808      3000\n",
            "   macro avg      0.804     0.740     0.761      3000\n",
            "weighted avg      0.806     0.808     0.800      3000\n",
            "\n",
            "Confusion matrix:\n",
            " [[ 264  260   16]\n",
            " [  82 1519   87]\n",
            " [   5  126  641]]\n"
          ]
        }
      ],
      "source": [
        "import pandas as pd\n",
        "from transformers import AutoTokenizer, AutoModelForSequenceClassification\n",
        "import torch\n",
        "from sklearn.metrics import classification_report, confusion_matrix, accuracy_score\n",
        "\n",
        "# 1. โหลดข้อมูล\n",
        "df = pd.read_csv('rawdata_sentiment.csv')\n",
        "print(df.head())\n",
        "\n",
        "# ระบุคอลัมน์ข้อความ/label\n",
        "text_col = 'Text'\n",
        "label_col = 'Sentiment'\n",
        "\n",
        "# 2. โหลดโมเดล sentiment\n",
        "model_name = \"poom-sci/WangchanBERTa-finetuned-sentiment\"\n",
        "tokenizer = AutoTokenizer.from_pretrained(model_name)\n",
        "model = AutoModelForSequenceClassification.from_pretrained(model_name)\n",
        "\n",
        "# label_names = [\"neu\", \"neg\", \"pos\"]  # ตามลำดับโมเดล\n",
        "label_names = [\"pos\", \"neu\", \"neg\"]\n",
        "\n",
        "def sentiment_predict(text):\n",
        "    # Robust: handle NaN, force string, truncate\n",
        "    if pd.isna(text) or text is None:\n",
        "        text = \"\"\n",
        "    text = str(text)[:512]    # truncate to max_length 512 chars\n",
        "    inputs = tokenizer(text, return_tensors=\"pt\", truncation=True, padding=True, max_length=512)\n",
        "    with torch.no_grad():\n",
        "        logits = model(**inputs).logits\n",
        "    pred = torch.argmax(logits, axis=1).item()\n",
        "    return label_names[pred]\n",
        "\n",
        "# เช็คและเตรียมข้อมูลก่อน apply\n",
        "df[text_col] = df[text_col].fillna(\"\").astype(str)\n",
        "\n",
        "# 3. ทำนาย sentiment\n",
        "df['pred_sentiment'] = df[text_col].apply(sentiment_predict)\n",
        "\n",
        "# 4. วัดผล\n",
        "y_true = df[label_col].astype(str).str.lower()\n",
        "y_pred = df['pred_sentiment']\n",
        "\n",
        "print(\"\\nAccuracy:\", accuracy_score(y_true, y_pred))\n",
        "print(classification_report(y_true, y_pred, digits=3))\n",
        "print(\"Confusion matrix:\\n\", confusion_matrix(y_true, y_pred, labels=label_names))\n",
        "\n",
        "# 5. Export ผลลัพธ์ (optional)\n",
        "# df.to_csv(\"sentiment_predict_wangchanberta.csv\", index=False)"
      ]
    }
  ],
  "metadata": {
    "accelerator": "GPU",
    "colab": {
      "name": "sentiment_analysis.ipynb",
      "provenance": []
    },
    "kernelspec": {
      "display_name": "base",
      "language": "python",
      "name": "python3"
    },
    "language_info": {
      "codemirror_mode": {
        "name": "ipython",
        "version": 3
      },
      "file_extension": ".py",
      "mimetype": "text/x-python",
      "name": "python",
      "nbconvert_exporter": "python",
      "pygments_lexer": "ipython3",
      "version": "3.10.9"
    }
  },
  "nbformat": 4,
  "nbformat_minor": 0
}
