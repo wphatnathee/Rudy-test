{
 "cells": [
  {
   "cell_type": "markdown",
   "id": "1739079e",
   "metadata": {},
   "source": [
    "# LLM model"
   ]
  },
  {
   "cell_type": "code",
   "execution_count": null,
   "id": "d12b384d",
   "metadata": {},
   "outputs": [],
   "source": [
    "!pip install gradio langchain openai langchain-community"
   ]
  },
  {
   "cell_type": "code",
   "execution_count": 4,
   "id": "baad581c",
   "metadata": {},
   "outputs": [
    {
     "name": "stderr",
     "output_type": "stream",
     "text": [
      "C:\\Users\\FOth-PC\\AppData\\Local\\Temp\\ipykernel_21640\\739071006.py:66: UserWarning: You have not specified a value for the `type` parameter. Defaulting to the 'tuples' format for chatbot messages, but this is deprecated and will be removed in a future version of Gradio. Please set type='messages' instead, which uses openai-style dictionaries with 'role' and 'content' keys.\n",
      "  chatbot = gr.Chatbot()\n"
     ]
    },
    {
     "name": "stdout",
     "output_type": "stream",
     "text": [
      "* Running on local URL:  http://127.0.0.1:7865\n",
      "* To create a public link, set `share=True` in `launch()`.\n"
     ]
    },
    {
     "data": {
      "text/html": [
       "<div><iframe src=\"http://127.0.0.1:7865/\" width=\"100%\" height=\"500\" allow=\"autoplay; camera; microphone; clipboard-read; clipboard-write;\" frameborder=\"0\" allowfullscreen></iframe></div>"
      ],
      "text/plain": [
       "<IPython.core.display.HTML object>"
      ]
     },
     "metadata": {},
     "output_type": "display_data"
    }
   ],
   "source": [
    "import os\n",
    "import gradio as gr\n",
    "from langchain.chat_models import ChatOpenAI\n",
    "from langchain.chains import ConversationChain\n",
    "from langchain.schema import BaseMessage\n",
    "from openai import OpenAI\n",
    "import tiktoken\n",
    "from langchain.prompts import ChatPromptTemplate, MessagesPlaceholder\n",
    "from langchain.memory import ConversationBufferWindowMemory\n",
    "\n",
    "\n",
    "# === CONFIG ===\n",
    "os.environ[\"OPENAI_API_KEY\"] = \"microsoft/phi-4\"\n",
    "os.environ[\"OPENAI_API_BASE\"] = \"http://127.0.0.1:1234/v1\"\n",
    "\n",
    "# === MODEL ===\n",
    "llm = ChatOpenAI(model=\"microsoft/phi-4\", temperature=0.7)\n",
    "\n",
    "\n",
    "# === PROMPT TEMPLATE ===\n",
    "memory = ConversationBufferWindowMemory(k=5, return_messages=True)\n",
    "\n",
    "template = ChatPromptTemplate.from_messages([\n",
    "    (\"system\", \"คุณคือผู้ช่วย AI ที่ใจดีและเป็นประโยชน์\"),\n",
    "    MessagesPlaceholder(variable_name=\"history\"),\n",
    "    (\"human\", \"{input}\")\n",
    "])\n",
    "\n",
    "conversation = ConversationChain(\n",
    "    llm=llm,\n",
    "    memory=memory,\n",
    "    prompt=template,\n",
    "    verbose=False,\n",
    ")\n",
    "\n",
    "# === TOKEN COUNTER ===\n",
    "def count_tokens(text, model=\"microsoft/phi-4\"):\n",
    "    try:\n",
    "        encoding = tiktoken.encoding_for_model(model)\n",
    "    except:\n",
    "        encoding = tiktoken.get_encoding(\"cl100k_base\")\n",
    "    return len(encoding.encode(text))\n",
    "\n",
    "# === CHATBOT HANDLER ===\n",
    "def chatbot_interface(user_input, history):\n",
    "    # Predict\n",
    "    response = conversation.predict(input=user_input)\n",
    "\n",
    "    # Count tokens\n",
    "    input_tokens = count_tokens(user_input)\n",
    "    output_tokens = count_tokens(response)\n",
    "    total_tokens = input_tokens + output_tokens\n",
    "\n",
    "    # Memory count\n",
    "    memory_count = len(memory.chat_memory.messages) // 2  # user+bot = 1 exchange\n",
    "\n",
    "    # Add to history\n",
    "    history.append((user_input, f\"{response}\\n\\n🧠 Tokens: {total_tokens}, Memory turns: {memory_count}\"))\n",
    "\n",
    "    return \"\", history\n",
    "\n",
    "# === BUILD INTERFACE ===\n",
    "def build_interface():\n",
    "    with gr.Blocks() as demo:\n",
    "        gr.Markdown(\"## 🤖 LangChain + LM Studio Chatbot\")\n",
    "        chatbot = gr.Chatbot()\n",
    "        msg = gr.Textbox(label=\"พิมพ์ข้อความที่นี่...\")\n",
    "        submit_btn = gr.Button(\"📨 ส่งข้อความ\")\n",
    "        clear = gr.Button(\"🔁 ล้างบทสนทนา\")\n",
    "\n",
    "        state = gr.State([])\n",
    "\n",
    "        submit_btn.click(chatbot_interface, [msg, state], [msg, chatbot])\n",
    "        msg.submit(chatbot_interface, [msg, state], [msg, chatbot])\n",
    "        clear.click(lambda: [], None, chatbot)\n",
    "\n",
    "    return demo\n",
    "\n",
    "# === RUN ===\n",
    "if __name__ == \"__main__\":\n",
    "    demo = build_interface()\n",
    "    demo.launch(inbrowser=True)\n"
   ]
  }
 ],
 "metadata": {
  "kernelspec": {
   "display_name": "Python 3",
   "language": "python",
   "name": "python3"
  },
  "language_info": {
   "codemirror_mode": {
    "name": "ipython",
    "version": 3
   },
   "file_extension": ".py",
   "mimetype": "text/x-python",
   "name": "python",
   "nbconvert_exporter": "python",
   "pygments_lexer": "ipython3",
   "version": "3.13.3"
  }
 },
 "nbformat": 4,
 "nbformat_minor": 5
}
